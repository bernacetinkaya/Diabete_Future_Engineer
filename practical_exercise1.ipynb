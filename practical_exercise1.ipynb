{
  "nbformat": 4,
  "nbformat_minor": 0,
  "metadata": {
    "colab": {
      "provenance": [],
      "include_colab_link": true
    },
    "kernelspec": {
      "name": "python3",
      "display_name": "Python 3"
    },
    "language_info": {
      "name": "python"
    }
  },
  "cells": [
    {
      "cell_type": "markdown",
      "metadata": {
        "id": "view-in-github",
        "colab_type": "text"
      },
      "source": [
        "<a href=\"https://colab.research.google.com/github/bernacetinkaya/Diabete_Future_Engineer/blob/main/practical_exercise1.ipynb\" target=\"_parent\"><img src=\"https://colab.research.google.com/assets/colab-badge.svg\" alt=\"Open In Colab\"/></a>"
      ]
    },
    {
      "cell_type": "markdown",
      "source": [
        "# Practical exercise 1:  Plan an exciting adventure with a new friend\n",
        "\n",
        "Welcome to your first practical exercise for this course. Here you will get a chance to practice the concepts we've covered in the video lessons from the module and apply your new coding skills to plan an exciting adventure with a new friend you meet online."
      ],
      "metadata": {
        "id": "tBDsFMQwBs6Z"
      }
    },
    {
      "cell_type": "markdown",
      "source": [
        "##Warm up\n",
        "\n",
        "For this exercise, you will have to read the instructions, then write and run the code block. \n",
        "\n",
        "Let's test this. Do you remember all the keywords in Python? Probably not, but there is a quick and easy way to check them here.  \n",
        "\n",
        "1. Write the help() function in the code cell below and run the code. \n",
        "2. In the prompt that appears, type \"keywords\" and they will pop up."
      ],
      "metadata": {
        "id": "ymULFKyosM3d"
      }
    },
    {
      "cell_type": "code",
      "source": [
        "help()"
      ],
      "metadata": {
        "id": "0w6HGZBvsvru",
        "colab": {
          "base_uri": "https://localhost:8080/"
        },
        "outputId": "1fc02e24-f7f8-4986-edce-027e3196532b"
      },
      "execution_count": 5,
      "outputs": [
        {
          "name": "stdout",
          "output_type": "stream",
          "text": [
            "\n",
            "Welcome to Python 3.8's help utility!\n",
            "\n",
            "If this is your first time using Python, you should definitely check out\n",
            "the tutorial on the Internet at https://docs.python.org/3.8/tutorial/.\n",
            "\n",
            "Enter the name of any module, keyword, or topic to get help on writing\n",
            "Python programs and using Python modules.  To quit this help utility and\n",
            "return to the interpreter, just type \"quit\".\n",
            "\n",
            "To get a list of available modules, keywords, symbols, or topics, type\n",
            "\"modules\", \"keywords\", \"symbols\", or \"topics\".  Each module also comes\n",
            "with a one-line summary of what it does; to list the modules whose name\n",
            "or summary contain a given string such as \"spam\", type \"modules spam\".\n",
            "\n",
            "help> keywords\n",
            "\n",
            "Here is a list of the Python keywords.  Enter any keyword to get more help.\n",
            "\n",
            "False               class               from                or\n",
            "None                continue            global              pass\n",
            "True                def                 if                  raise\n",
            "and                 del                 import              return\n",
            "as                  elif                in                  try\n",
            "assert              else                is                  while\n",
            "async               except              lambda              with\n",
            "await               finally             nonlocal            yield\n",
            "break               for                 not                 \n",
            "\n",
            "\n",
            "You are now leaving help and returning to the Python interpreter.\n",
            "If you want to ask for help on a particular object directly from the\n",
            "interpreter, you can type \"help(object)\".  Executing \"help('string')\"\n",
            "has the same effect as typing a particular string at the help> prompt.\n",
            "help> keywords\n"
          ]
        }
      ]
    },
    {
      "cell_type": "markdown",
      "source": [
        "🧨 Is the code cell above still running? If so, you can't continue!\n",
        "\n",
        "💣 Click the stop button next to the cell. Otherwise, it will continue to run infinitely and you will not be able to run other cells."
      ],
      "metadata": {
        "id": "kG-nBjLU1WPC"
      }
    },
    {
      "cell_type": "markdown",
      "source": [
        "# Meet Amir\n",
        "\n",
        "Let's say you are browsing the internet, when a pop up message shows on your screen, someone wants to meet you. \n",
        " "
      ],
      "metadata": {
        "id": "cnWVzlo1vBy8"
      }
    },
    {
      "cell_type": "code",
      "source": [
        "#Run this cell to see the message\n",
        "message = \"Hello, my name is Amir! Nice to meet you. What is yours?\"\n",
        "print(message)"
      ],
      "metadata": {
        "id": "JFUdDbEW7GqB"
      },
      "execution_count": null,
      "outputs": []
    },
    {
      "cell_type": "markdown",
      "source": [
        "Now, how would you answer Amir? \n",
        "\n",
        "Use the cell below to prepare an answer for him with a greeting and your name and print it to the screen. \n",
        "\n",
        "📌 We use the built-in function print() in Python to show results as output."
      ],
      "metadata": {
        "id": "Yr7uQq1J2k6p"
      }
    },
    {
      "cell_type": "code",
      "source": [
        "#Write your answer and print it on the screen\n",
        "\"Hello, my name is Amir! Nice to meet you. What is yours?\""
      ],
      "metadata": {
        "id": "8S1F2r8NtEoN",
        "colab": {
          "base_uri": "https://localhost:8080/",
          "height": 35
        },
        "outputId": "f549fa5f-e82b-43b2-9540-ae6bd8449064"
      },
      "execution_count": 9,
      "outputs": [
        {
          "output_type": "execute_result",
          "data": {
            "text/plain": [
              "'Hello, my name is Amir! Nice to meet you. What is yours?'"
            ],
            "application/vnd.google.colaboratory.intrinsic+json": {
              "type": "string"
            }
          },
          "metadata": {},
          "execution_count": 9
        }
      ]
    },
    {
      "cell_type": "markdown",
      "source": [
        "Good job! Right away Amir writes you back with an intriguing question. He says, \"Would you like to plan an exciting adventure with me today?\" Well, why not! But before you start planning, maybe you need to learn a little bit more about each other."
      ],
      "metadata": {
        "id": "Vgv4mhyZEWR6"
      }
    },
    {
      "cell_type": "markdown",
      "source": [
        "#Get to know each other\n",
        "\n",
        "You ask Amir to tell you a little bit about himself, and here's what he tells you."
      ],
      "metadata": {
        "id": "QQIXQsmRwGqB"
      }
    },
    {
      "cell_type": "code",
      "source": [
        "#Run the cell to see his message\n",
        "his_age = 20\n",
        "his_height = 1.76\n",
        "his_hair_color = \"brunette\"\n",
        "his_hometown = \"Iran\"\n",
        "where_he_lives = \"Turkey\"\n",
        "\n",
        "print(\"I am\", str(his_age),\"years old,\",str(his_height),\"tall\",his_hair_color,\"guy from\",his_hometown,\"but I currently live in\",where_he_lives)\n",
        "\n",
        "print(\"What about you? Tell me about yourself.\")"
      ],
      "metadata": {
        "id": "dvTr4HR4wF4n",
        "colab": {
          "base_uri": "https://localhost:8080/"
        },
        "outputId": "bfcdce0b-3c71-476a-fb3c-ddebbc2c8c59"
      },
      "execution_count": 11,
      "outputs": [
        {
          "output_type": "stream",
          "name": "stdout",
          "text": [
            "I am 20 years old, 1.76 tall brunette guy from Iran but I currently live in Turkey\n",
            "What about you? Tell me about yourself.\n"
          ]
        }
      ]
    },
    {
      "cell_type": "markdown",
      "source": [
        "Now it is your turn to share, but first some preparation is needed.\n",
        "\n",
        "1. Write in information about yourself using the variables below. \n",
        "2. If there's something you don't want to share, you can use comments. Just put a \"#\" symbol in front of the code line and Python will not execute that line of code.\n",
        "3. Check the datatype of each variable.\n",
        "\n",
        "📌 Remember that there are different data types in Python and in order to use them in a sentence you may have to convert some of them. "
      ],
      "metadata": {
        "id": "L7-zc-wR5982"
      }
    },
    {
      "cell_type": "code",
      "source": [
        "#Please assign your age, height and other details you want to share.\n",
        "print(his_age)\n",
        "print(his_height)\n",
        "\n",
        "#Check the data type of the variables you want to type.\n",
        "type(his_age)\n",
        "type(his_height)\n",
        "type(his_hair_color)\n",
        "type(his_hometown)\n",
        "type(where_he_lives)"
      ],
      "metadata": {
        "id": "MDTV-mOZBVOw",
        "colab": {
          "base_uri": "https://localhost:8080/"
        },
        "outputId": "4dc75572-22f0-4ec7-ce13-30810b712999"
      },
      "execution_count": 15,
      "outputs": [
        {
          "output_type": "stream",
          "name": "stdout",
          "text": [
            "20\n",
            "1.76\n"
          ]
        },
        {
          "output_type": "execute_result",
          "data": {
            "text/plain": [
              "str"
            ]
          },
          "metadata": {},
          "execution_count": 15
        }
      ]
    },
    {
      "cell_type": "markdown",
      "source": [
        "Great, now that you know what you want to share and which variables need to be converted to strings, you're ready to write your sentence. "
      ],
      "metadata": {
        "id": "SDnrjsw7IC7Z"
      }
    },
    {
      "cell_type": "code",
      "source": [
        "#Write a sentence using the print function to describe yourself using the variables above in the correct data type\n",
        "his_height = str(his_height)\n",
        "print(his_height,type(his_height))"
      ],
      "metadata": {
        "id": "0U8slyfyICeJ",
        "colab": {
          "base_uri": "https://localhost:8080/"
        },
        "outputId": "7779b6d8-1b18-44f0-8537-facb0c23be29"
      },
      "execution_count": 21,
      "outputs": [
        {
          "output_type": "stream",
          "name": "stdout",
          "text": [
            "1.76 <class 'str'>\n"
          ]
        }
      ]
    },
    {
      "cell_type": "markdown",
      "source": [
        "#Where to go and what to eat\n",
        "\n",
        "Now that you know each other a little better, you can start planning your adventure. But where do you start? \n",
        "\n",
        "Let's start with locations and food. Amir asks you to make a list of places in the world that you want to visit and meals that you like to eat.\n",
        " \n",
        "Create a list 'favorite_places_and_foods' that contains at least 5 places and 5 meals.\n"
      ],
      "metadata": {
        "id": "7ICXdJRy9SWZ"
      }
    },
    {
      "cell_type": "code",
      "source": [
        "favorite_place_and_food=[\"Paris:Ice Cream\",\n",
        "\"Holland:Chicken Tenders\",\n",
        "\"ABD:Soft Drinks/Soda\",\n",
        "\"Italy:Pizza\",\n",
        "\"Amsterdam:Oreo Cookies\"]"
      ],
      "metadata": {
        "id": "FHdeAmG6Aw3h"
      },
      "execution_count": 25,
      "outputs": []
    },
    {
      "cell_type": "markdown",
      "source": [
        "It's quite tough to choose from such great options. You need to narrow it down to three items per category. \n",
        "\n",
        "1. First you have to separate or 'slice' the places from the meals. \n",
        "2. Then select the first three items from the places list and the last ones from the foods list.\n",
        "3. Print the remaining options to the screen. \n",
        "\n",
        "📌 Do you remember the list slicing technique? For example, Mylist[1:3] will give the second and third value from Mylist."
      ],
      "metadata": {
        "id": "bHbGRpu2MmYH"
      }
    },
    {
      "cell_type": "code",
      "source": [
        "#Create two separate lists for places and foods using the list slicing technique\n",
        "favorite_place=[\"Paris\",\"Holland\",\"ABD\",\"Italy\",\"Amsterdam\"]\n",
        "favorite_foods=[\"Ice Cream\",\"Chicken Tenders\",\"Soft Drinks/Soda\",\"Pizza\",\"Oreo Cookies\"]\n",
        "#Select the first and last three from place and food lists\n",
        "print(favorite_foods[0])\n",
        "print(favorite_foods[3:])\n",
        "\n",
        "#Print both lists\n",
        "print(favorite_place_and_food)"
      ],
      "metadata": {
        "id": "13LMxJu1CD-F",
        "colab": {
          "base_uri": "https://localhost:8080/"
        },
        "outputId": "653b0feb-6d1c-4fc3-96d6-bffb27c6ff48"
      },
      "execution_count": 28,
      "outputs": [
        {
          "output_type": "stream",
          "name": "stdout",
          "text": [
            "Ice Cream\n",
            "['Pizza', 'Oreo Cookies']\n",
            "['Paris:Ice Cream', 'Holland:Chicken Tenders', 'ABD:Soft Drinks/Soda', 'Italy:Pizza', 'Amsterdam:Oreo Cookies']\n"
          ]
        }
      ]
    },
    {
      "cell_type": "markdown",
      "source": [
        "It's quite hard to make a choice from these three. But why not let the computer choose for you? Do you remember the game of dice from our videos? Here is what you need to do.\n",
        "\n",
        "1. Import the random module\n",
        "2. Generate two random numbers between 0-2\n",
        "3. Use each number as the index to choose an item from your favourite-place and food lists\n",
        "4. Print the results to the screen\n"
      ],
      "metadata": {
        "id": "R5LG-XXHBFFM"
      }
    },
    {
      "cell_type": "code",
      "source": [
        "#Please import the random module and generate two random numbers between 0 and 2\n",
        "import random\n",
        "print(random.randint(0,2))\n",
        "#Use the generated numbers as indexes of randomely chosen items from place and food list.\n",
        "print(random.choice(favorite_place_and_food))\n"
      ],
      "metadata": {
        "id": "krGw2OUtC9y5",
        "colab": {
          "base_uri": "https://localhost:8080/"
        },
        "outputId": "6ed93475-5d50-4c9a-ee6d-dfa9caf24fc9"
      },
      "execution_count": 39,
      "outputs": [
        {
          "output_type": "stream",
          "name": "stdout",
          "text": [
            "2\n",
            "Italy:Pizza\n"
          ]
        }
      ]
    },
    {
      "cell_type": "markdown",
      "source": [
        "You must have found your location and food. But what else would you like to do on your adventure?"
      ],
      "metadata": {
        "id": "XzBTqk1yPZsM"
      }
    },
    {
      "cell_type": "markdown",
      "source": [
        "#Activities \n",
        "\n",
        "Now, you have your place and meals, but after lunch there are still lots of activities that you can do together...or separately.\n",
        "\n",
        "Let's say there are three pre-defined options: playing chess, playing tennis and visiting a museum. Chess and tennis require both of you to participate, but you can visit the museum separately as well. \n",
        "\n",
        "We need a code to indicate which activities each of you would like to do and which ones will be able to do. A chance to use our logical operators. \n",
        "\n",
        "1. Define activities\n",
        "2. Use the operands 'True' and 'False' to indicate your and Amir's preference for each activity\n",
        "3. Use the logical operators 'and' and 'or' to define which activities you will be able to do\n",
        "\n",
        "📌 Please add in the responces for Amir as well, by the way he doesn't like sports, but loves board games. "
      ],
      "metadata": {
        "id": "9t9q1B-WbW4i"
      }
    },
    {
      "cell_type": "code",
      "source": [
        "first_activity = \"lets play chess in the park\"\n",
        "second_activiy = \"lets play a game of tennis\"\n",
        "third_activity = \"lets go to the museum\"\n",
        "\n",
        "#Write your and Amir's preference for each activity either as \"True\" or \"False\"\n",
        "\n",
        "#First activity\n",
        "first_activity_your = \"play chess\"\n",
        "first_activity_friend =\"play chess\"\n",
        "\n",
        "#Example statement\n",
        "print(\"We are going to play chess in the park! Answer:\" ,first_activity_your and first_activity_friend)\n",
        " \n",
        "#Second activity\n",
        "second_activity_your = \"play tennis\"\n",
        "second_activity_friend =\"play tennis\"\n",
        " \n",
        "#Your turn to write the statement\n",
        "print(\"We are going to play tennis! Answer:\" ,second_activity_your and second_activity_friend)\n",
        "\n",
        "#Third activity\n",
        "third_activity_your = \"go to museum\"\n",
        "third_activity_friend =\"go to museum\"\n",
        "#Your turn to write the statement \n",
        "print(\"We are going to the museum ! Answer:\" ,third_activity_your and third_activity_friend)"
      ],
      "metadata": {
        "id": "sNIV7420Yk-Y",
        "colab": {
          "base_uri": "https://localhost:8080/"
        },
        "outputId": "82a8f54d-9e12-49cf-f088-ef863c9a871d"
      },
      "execution_count": 42,
      "outputs": [
        {
          "output_type": "stream",
          "name": "stdout",
          "text": [
            "We are going to play chess in the park! Answer: play chess\n",
            "We are going to play tennis! Answer: play tennis\n",
            "We are going to the museum ! Answer: go to museum\n"
          ]
        }
      ]
    },
    {
      "cell_type": "markdown",
      "source": [
        "#Get a date\n",
        "\n",
        "Finally you know where to meet, what to eat and what do to. The only last thing to decide is when to meet. How would you ask Amir for the date and time he wants to go on this adventure with you? \n",
        "\n",
        "📌📌Hint: Use the input() function."
      ],
      "metadata": {
        "id": "p_jbzGubELqR"
      }
    },
    {
      "cell_type": "code",
      "source": [
        "#Create a variable for your trip date that asks Amir for an input\n",
        "value = input(\"When should we go?:\\n \")\n",
        "\n",
        "#Print the date for the trip by using it in a sentence\n",
        "print(f\"let's go on {value}\")"
      ],
      "metadata": {
        "id": "jGxVfccGEMZB",
        "colab": {
          "base_uri": "https://localhost:8080/"
        },
        "outputId": "746243bb-cb2d-4fe4-9833-ef1e707d15f1"
      },
      "execution_count": 60,
      "outputs": [
        {
          "output_type": "stream",
          "name": "stdout",
          "text": [
            "When should we go?:\n",
            " wednesday\n",
            "let's go on wednesday\n"
          ]
        }
      ]
    }
  ]
}